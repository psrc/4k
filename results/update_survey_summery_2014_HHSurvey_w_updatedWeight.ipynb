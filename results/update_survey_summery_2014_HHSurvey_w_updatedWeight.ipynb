{
 "cells": [
  {
   "cell_type": "code",
   "execution_count": 1,
   "metadata": {
    "collapsed": true
   },
   "outputs": [],
   "source": [
    "import pandas as pd \n",
    "import numpy as np "
   ]
  },
  {
   "cell_type": "code",
   "execution_count": 2,
   "metadata": {
    "collapsed": false
   },
   "outputs": [],
   "source": [
    "# Load person and household records from standard survey records\n",
    "person = pd.read_excel(r'J:\\Projects\\Surveys\\HHTravel\\Survey2014\\Data\\Final database\\Release 4\\2014-pr3-M-hhsurvey-persons.xlsx',\n",
    "                  sheetname='Data1')\n",
    "hh = pd.read_excel(r'J:\\Projects\\Surveys\\HHTravel\\Survey2014\\Data\\Final database\\Release 4\\2014-pr3-M-hhsurvey-households.xlsx',\n",
    "                  sheetname='Data')"
   ]
  },
  {
   "cell_type": "code",
   "execution_count": 3,
   "metadata": {
    "collapsed": true
   },
   "outputs": [],
   "source": [
    "# GPS Weighted trips (in Daysim format)\n",
    "trip = pd.read_csv(r'\\\\file2\\datateam\\Projects\\Surveys\\HHTravel\\Survey2014\\Data\\Final database\\Release 4\\Adjusted\\trips_2014_adjusted_wt_daysim.csv')\n",
    "\n",
    "# Non GPS weighted\n",
    "# trip = pd.read_csv(r'R:\\SoundCast\\estimation\\2014\\Surveys\\2014 Survey\\P5\\tripP5.dat', delim_whitespace=True)"
   ]
  },
  {
   "cell_type": "code",
   "execution_count": 4,
   "metadata": {
    "collapsed": false
   },
   "outputs": [
    {
     "data": {
      "text/plain": [
       "Index([u'hhno', u'pno', u'day', u'tour', u'half', u'tseg', u'tsvid', u'opurp',\n",
       "       u'dpurp', u'oadtyp', u'dadtyp', u'opcl', u'otaz', u'dpcl', u'dtaz',\n",
       "       u'mode', u'pathtype', u'dorp', u'deptm', u'arrtm', u'endacttm',\n",
       "       u'trexpfac', u'id', u'travcost', u'travdist', u'travtime', u'tripID',\n",
       "       u'4k_purp'],\n",
       "      dtype='object')"
      ]
     },
     "execution_count": 4,
     "metadata": {},
     "output_type": "execute_result"
    }
   ],
   "source": [
    "trip.columns"
   ]
  },
  {
   "cell_type": "code",
   "execution_count": 5,
   "metadata": {
    "collapsed": true
   },
   "outputs": [],
   "source": [
    "# Separate college student trips from regional survey trips\n",
    "college_trips = trip[trip['hhno'] < 14000000]\n",
    "trip = trip[trip['hhno'] >= 14000000]"
   ]
  },
  {
   "cell_type": "code",
   "execution_count": 6,
   "metadata": {
    "collapsed": false
   },
   "outputs": [
    {
     "data": {
      "text/plain": [
       "46080"
      ]
     },
     "execution_count": 6,
     "metadata": {},
     "output_type": "execute_result"
    }
   ],
   "source": [
    "len(trip)"
   ]
  },
  {
   "cell_type": "markdown",
   "metadata": {},
   "source": [
    "# Vehicle Trip Distribution"
   ]
  },
  {
   "cell_type": "code",
   "execution_count": 7,
   "metadata": {
    "collapsed": true
   },
   "outputs": [],
   "source": [
    "# Reclassify household columns for cross-classification\n",
    "\n",
    "# Number of Workers 0 -> 3+\n",
    "hh['numworkers_crossclass'] = hh['numworkers']\n",
    "hh.ix[hh['numworkers'] >= 3, 'numworkers_crossclass'] = '3+'\n",
    "hh['numworkers_crossclass'] = hh['numworkers_crossclass'].astype('str')\n",
    "\n",
    "# Household size\n",
    "hh['hhsize_crossclass'] = hh['hhsize']\n",
    "hh.ix[hh['hhsize'] >= 4, 'hhsize_crossclass'] = '4+'\n",
    "hh['hhsize_crossclass'] = hh['hhsize_crossclass'].astype('str')\n",
    "\n",
    "# Household income\n",
    "# Note that exact ranges from 2014 do not match 2006\n",
    "# old ranges: 30, 60, 90+\n",
    "# new ranges: 35, 75, 100+\n",
    "hh['income_crossclass'] = hh['hh_income_detailed_imp']\n",
    "hh.ix[hh['hh_income_detailed_imp'] <= 3, 'income_crossclass'] = '1'    # $35k  \n",
    "hh.ix[(hh['hh_income_detailed_imp'] > 3) & (hh['hh_income_detailed_imp'] <= 5),    # $35-75k\n",
    "           'income_crossclass'] = '2' \n",
    "hh.ix[(hh['hh_income_detailed_imp'] > 5) & (hh['hh_income_detailed_imp'] <= 6),    # $75-100k\n",
    "           'income_crossclass'] = '3' \n",
    "hh.ix[hh['hh_income_detailed_imp'] >= 7, 'income_crossclass'] = '4'    # >$100k"
   ]
  },
  {
   "cell_type": "code",
   "execution_count": 8,
   "metadata": {
    "collapsed": false
   },
   "outputs": [],
   "source": [
    "# Reclassify trip purpose for 4k purposes\n",
    "# Use Daysim User's Guide for data dictionary for trip records\n",
    "\n",
    "# Home-Based Work (HBW) Trips, directly from home-to-work and work-to-home\n",
    "trip.ix[(trip['opurp'] == 0) & (trip['dpurp'] == 1), '4k_purp'] = 'HBW'\n",
    "trip.ix[(trip['opurp'] == 1) & (trip['dpurp'] == 0), '4k_purp'] = 'HBW'\n",
    "\n",
    "# Home-Based shopping\n",
    "trip.ix[(trip['opurp'] == 0) & (trip['dpurp'] == 5), '4k_purp'] = 'Home-Based Shopping'\n",
    "trip.ix[(trip['opurp'] == 5) & (trip['dpurp'] == 0), '4k_purp'] = 'Home-Based Shopping'\n",
    "\n",
    "# Home-Based Other\n",
    "trip.ix[(trip['opurp'] == 0) & (trip['dpurp'].isin([3,4,6,7,8,9,10])), '4k_purp'] = 'Home-Based Other'\n",
    "trip.ix[(trip['opurp'].isin([3,4,6,7,8,9,10]) & (trip['dpurp'] == 0)), '4k_purp'] = 'Home-Based Other'\n",
    "\n",
    "# NHB Work-to-Other\n",
    "trip.ix[(trip['opurp'] == 1) & (trip['dpurp'] != 0) & (trip['4k_purp'].isnull()), '4k_purp'] = 'NHB WtO'\n",
    "trip.ix[(trip['opurp'] != 0) & (trip['dpurp'] == 1) & (trip['4k_purp'].isnull()), '4k_purp'] = 'NHB WtO'\n",
    "\n",
    "# # NHB Other-to-Other (Destination and Origins are neither work nor home)\n",
    "trip.ix[(trip['opurp'] != 1) & (trip['dpurp'] != 0) & (trip['opurp'] != 0) \n",
    "        & (trip['dpurp'] != 1) & (trip['4k_purp'].isnull()), '4k_purp'] = 'NHB OtO'\n",
    "\n"
   ]
  },
  {
   "cell_type": "code",
   "execution_count": 9,
   "metadata": {
    "collapsed": false
   },
   "outputs": [
    {
     "data": {
      "text/plain": [
       "array(['HBW', 'Home-Based Other', 'Home-Based Shopping', 'NHB OtO',\n",
       "       'NHB WtO', 'School'], dtype=object)"
      ]
     },
     "execution_count": 9,
     "metadata": {},
     "output_type": "execute_result"
    }
   ],
   "source": [
    "np.unique(trip['4k_purp'])"
   ]
  },
  {
   "cell_type": "code",
   "execution_count": 10,
   "metadata": {
    "collapsed": true
   },
   "outputs": [],
   "source": [
    "# Merge HH record info to trip records to create cross-class tables\n",
    "trip_hh = pd.merge(trip, hh, left_on='hhno', right_on='hhid', how='left')"
   ]
  },
  {
   "cell_type": "code",
   "execution_count": 11,
   "metadata": {
    "collapsed": true
   },
   "outputs": [],
   "source": [
    "# total in average\n",
    "weights_hbw = trip_hh['trexpfac'].sum()\n",
    "my_trip = trip_hh\n",
    "my_trip['travdist_fac'] = my_trip['travdist']*my_trip['trexpfac']\n",
    "my_trip['travtime_fac'] = my_trip['travtime']*my_trip['trexpfac']\n",
    "length_average = my_trip['travdist_fac'].sum() / weights_hbw\n",
    "time_average = my_trip['travtime_fac'].sum() / weights_hbw"
   ]
  },
  {
   "cell_type": "code",
   "execution_count": 12,
   "metadata": {
    "collapsed": false
   },
   "outputs": [
    {
     "name": "stdout",
     "output_type": "stream",
     "text": [
      "5.67894243327\n",
      "15.8926747061\n"
     ]
    }
   ],
   "source": [
    "print length_average\n",
    "print time_average"
   ]
  },
  {
   "cell_type": "code",
   "execution_count": 13,
   "metadata": {
    "collapsed": true
   },
   "outputs": [],
   "source": [
    "def trip_distribution(my_trip, purp, income, my_measure, my_measure_fac, my_measure_name):\n",
    "    #my_trip = my_trip[my_trip['4k_purp'] == purp]\n",
    "    # if it is HBW, we want to break it down to 4 income groups; for other purposes, no need to create income diversity.\n",
    "    print purp, 'index: ', my_measure_name\n",
    "    print 'income group', income\n",
    "    \n",
    "    if income not in ['0']:\n",
    "        weights_hbw = my_trip[(my_trip['4k_purp'] == purp) & (my_trip['income_crossclass'] == income)].sum()[['trexpfac']]\n",
    "        my_trip[my_measure_fac] = my_trip[my_measure]*my_trip['trexpfac']\n",
    "        trip_purp = my_trip[(trip_hh['4k_purp'] == purp)& (my_trip['income_crossclass'] == income)].sum()[[my_measure_fac]]\n",
    "        \n",
    "    else: \n",
    "        weights_hbw = my_trip[trip_hh['4k_purp'] == purp].sum()[['trexpfac']]\n",
    "        my_trip[my_measure_fac] = my_trip[my_measure]*my_trip['trexpfac']\n",
    "        trip_purp = my_trip[my_trip['4k_purp'] == purp].sum()[[my_measure_fac]]\n",
    "    \n",
    "    measure_output = trip_purp[my_measure_fac]/weights_hbw['trexpfac']\n",
    "    print measure_output \n"
   ]
  },
  {
   "cell_type": "code",
   "execution_count": 14,
   "metadata": {
    "collapsed": false
   },
   "outputs": [
    {
     "name": "stdout",
     "output_type": "stream",
     "text": [
      "Home-Based Other index:  Length\n",
      "income group 0\n",
      "4.67509704279\n",
      "Home-Based Shopping index:  Length\n",
      "income group 0\n",
      "3.88243292254\n",
      "NHB OtO index:  Length\n",
      "income group 0\n",
      "4.22727345976\n",
      "NHB WtO index:  Length\n",
      "income group 0\n",
      "5.9871505205\n",
      "HBW index:  Length\n",
      "income group 0\n",
      "10.8541905913\n"
     ]
    }
   ],
   "source": [
    "for purp in ['Home-Based Other', 'Home-Based Shopping', 'NHB OtO', 'NHB WtO', 'HBW']:\n",
    "    trip_distribution(trip_hh, purp, '0', 'travdist', 'travdist_fac', 'Length')"
   ]
  },
  {
   "cell_type": "code",
   "execution_count": 15,
   "metadata": {
    "collapsed": false
   },
   "outputs": [
    {
     "name": "stdout",
     "output_type": "stream",
     "text": [
      "HBW index:  Length\n",
      "income group 1\n",
      "8.63097525979\n",
      "HBW index:  Length\n",
      "income group 2\n",
      "10.4166773793\n",
      "HBW index:  Length\n",
      "income group 3\n",
      "12.0579781958\n",
      "HBW index:  Length\n",
      "income group 4\n",
      "11.6090010026\n"
     ]
    }
   ],
   "source": [
    "for i in ['1', '2', '3', '4']:\n",
    "    trip_distribution(trip_hh, 'HBW', i, 'travdist', 'travdist_fac', 'Length')"
   ]
  },
  {
   "cell_type": "code",
   "execution_count": 16,
   "metadata": {
    "collapsed": false
   },
   "outputs": [
    {
     "name": "stdout",
     "output_type": "stream",
     "text": [
      "Home-Based Other index:  Time\n",
      "income group 0\n",
      "14.7495868866\n",
      "Home-Based Shopping index:  Time\n",
      "income group 0\n",
      "12.3391788421\n",
      "NHB OtO index:  Time\n",
      "income group 0\n",
      "12.7242177988\n",
      "NHB WtO index:  Time\n",
      "income group 0\n",
      "15.9411214967\n",
      "HBW index:  Time\n",
      "income group 0\n",
      "24.8816881379\n"
     ]
    }
   ],
   "source": [
    "for purp in ['Home-Based Other', 'Home-Based Shopping', 'NHB OtO', 'NHB WtO', 'HBW']:\n",
    "    trip_distribution( trip_hh, purp, '0', 'travtime', 'travtime_fac', 'Time')"
   ]
  },
  {
   "cell_type": "code",
   "execution_count": 17,
   "metadata": {
    "collapsed": false
   },
   "outputs": [
    {
     "name": "stdout",
     "output_type": "stream",
     "text": [
      "HBW index:  Time\n",
      "income group 1\n",
      "21.3736774788\n",
      "HBW index:  Time\n",
      "income group 2\n",
      "24.197246553\n",
      "HBW index:  Time\n",
      "income group 3\n",
      "26.3553786343\n",
      "HBW index:  Time\n",
      "income group 4\n",
      "26.2421749531\n"
     ]
    }
   ],
   "source": [
    "for i in ['1', '2', '3', '4']:\n",
    "    trip_distribution(trip_hh, 'HBW', i, 'travtime', 'travtime_fac', 'Time')"
   ]
  },
  {
   "cell_type": "markdown",
   "metadata": {},
   "source": [
    "# Vehicle Trip Length Frequency"
   ]
  },
  {
   "cell_type": "code",
   "execution_count": 18,
   "metadata": {
    "collapsed": false
   },
   "outputs": [],
   "source": [
    "# trip length \n",
    "trip_hh['length_crossclass'] = trip_hh['travdist']\n",
    "trip_hh.ix[trip_hh['travdist'] <= 0, 'length_crossclass'] = '0'\n",
    "\n",
    "for i in range(25): \n",
    "    j = i + 1\n",
    "    trip_hh.ix[(trip_hh['travdist'] > i) & (trip_hh['travdist'] <= j), 'length_crossclass'] = str(i)\n",
    "    \n",
    "trip_hh.ix[trip_hh['travdist'] >= 25, 'length_crossclass'] = '25'  "
   ]
  },
  {
   "cell_type": "code",
   "execution_count": 19,
   "metadata": {
    "collapsed": true
   },
   "outputs": [],
   "source": [
    "def trip_length_frequency(my_trip, purp, income, my_measure_name):\n",
    "    print purp, 'index: ', my_measure_name\n",
    "    print 'income group', income\n",
    "    \n",
    "    if income not in ['0']: #specified income group\n",
    "        trip_purp = my_trip[(my_trip['4k_purp'] == purp) & (my_trip['income_crossclass'] == income)].groupby(['length_crossclass']).sum()[['trexpfac']].astype(int)\n",
    "    else:\n",
    "        trip_purp = my_trip[my_trip['4k_purp'] == purp].groupby(['length_crossclass']).sum()[['trexpfac']].astype(int)\n",
    "        \n",
    "    total = trip_purp['trexpfac'].sum()\n",
    "    print total\n",
    "    trip_purp['share'] = trip_purp['trexpfac'] / total\n",
    "    length_output = pd.DataFrame(trip_purp[['trexpfac', 'share']])\n",
    "    length_output.columns = [['Total Trips', my_measure_name]]\n",
    "    print length_output"
   ]
  },
  {
   "cell_type": "code",
   "execution_count": 20,
   "metadata": {
    "collapsed": false,
    "scrolled": false
   },
   "outputs": [
    {
     "name": "stdout",
     "output_type": "stream",
     "text": [
      "Home-Based Other index:  Share of Trips\n",
      "income group 0\n",
      "4638126\n",
      "                   Total Trips  Share of Trips\n",
      "length_crossclass                             \n",
      "0                      1134478        0.244598\n",
      "1                       879621        0.189650\n",
      "10                       84108        0.018134\n",
      "11                       79546        0.017150\n",
      "12                       66877        0.014419\n",
      "13                       35583        0.007672\n",
      "14                       42733        0.009213\n",
      "15                       33967        0.007323\n",
      "16                       28869        0.006224\n",
      "17                       30398        0.006554\n",
      "18                       13512        0.002913\n",
      "19                       16890        0.003642\n",
      "2                       562152        0.121202\n",
      "20                       22042        0.004752\n",
      "21                       12694        0.002737\n",
      "22                       20882        0.004502\n",
      "23                       23307        0.005025\n",
      "24                       11042        0.002381\n",
      "25                       76474        0.016488\n",
      "3                       483971        0.104346\n",
      "4                       268794        0.057953\n",
      "5                       223501        0.048188\n",
      "6                       143778        0.030999\n",
      "7                       120346        0.025947\n",
      "8                       121499        0.026196\n",
      "9                       101062        0.021789\n",
      "Home-Based Shopping index:  Share of Trips\n",
      "income group 0\n",
      "1368562\n",
      "                   Total Trips  Share of Trips\n",
      "length_crossclass                             \n",
      "0                       296135        0.216384\n",
      "1                       326977        0.238920\n",
      "10                       15854        0.011584\n",
      "11                       14238        0.010404\n",
      "12                       13613        0.009947\n",
      "13                        8492        0.006205\n",
      "14                        9035        0.006602\n",
      "15                        9339        0.006824\n",
      "16                        4399        0.003214\n",
      "17                        4949        0.003616\n",
      "18                        1360        0.000994\n",
      "19                        3870        0.002828\n",
      "2                       178145        0.130169\n",
      "20                        4595        0.003358\n",
      "21                        1985        0.001450\n",
      "22                        5298        0.003871\n",
      "23                        1469        0.001073\n",
      "24                        1357        0.000992\n",
      "25                       11030        0.008060\n",
      "3                       168510        0.123129\n",
      "4                        86597        0.063276\n",
      "5                        70500        0.051514\n",
      "6                        56578        0.041341\n",
      "7                        36111        0.026386\n",
      "8                        23758        0.017360\n",
      "9                        14368        0.010499\n",
      "NHB OtO index:  Share of Trips\n",
      "income group 0\n",
      "2349061\n",
      "                   Total Trips  Share of Trips\n",
      "length_crossclass                             \n",
      "0                       710608        0.302507\n",
      "1                       442690        0.188454\n",
      "10                       34081        0.014508\n",
      "11                       43666        0.018589\n",
      "12                       25807        0.010986\n",
      "13                       19829        0.008441\n",
      "14                       17047        0.007257\n",
      "15                       13877        0.005907\n",
      "16                       15809        0.006730\n",
      "17                        9382        0.003994\n",
      "18                        7450        0.003171\n",
      "19                        5294        0.002254\n",
      "2                       275717        0.117373\n",
      "20                        6222        0.002649\n",
      "21                        4346        0.001850\n",
      "22                       10557        0.004494\n",
      "23                        8752        0.003726\n",
      "24                        2702        0.001150\n",
      "25                       37803        0.016093\n",
      "3                       191262        0.081421\n",
      "4                       113734        0.048417\n",
      "5                       124071        0.052817\n",
      "6                        79074        0.033662\n",
      "7                        64513        0.027463\n",
      "8                        40242        0.017131\n",
      "9                        44526        0.018955\n",
      "NHB WtO index:  Share of Trips\n",
      "income group 0\n",
      "1498066\n",
      "                   Total Trips  Share of Trips\n",
      "length_crossclass                             \n",
      "0                       470164        0.313847\n",
      "1                       193557        0.129205\n",
      "10                       32171        0.021475\n",
      "11                       30596        0.020424\n",
      "12                       27476        0.018341\n",
      "13                       19397        0.012948\n",
      "14                       23586        0.015744\n",
      "15                       20780        0.013871\n",
      "16                       17128        0.011433\n",
      "17                       17048        0.011380\n",
      "18                       13983        0.009334\n",
      "19                       18656        0.012453\n",
      "2                       109044        0.072790\n",
      "20                       12171        0.008124\n",
      "21                       15984        0.010670\n",
      "22                        7798        0.005205\n",
      "23                        8299        0.005540\n",
      "24                       10367        0.006920\n",
      "25                       47508        0.031713\n",
      "3                        87489        0.058401\n",
      "4                        82649        0.055170\n",
      "5                        58483        0.039039\n",
      "6                        52279        0.034898\n",
      "7                        42692        0.028498\n",
      "8                        37129        0.024785\n",
      "9                        41632        0.027790\n",
      "HBW index:  Share of Trips\n",
      "income group 0\n",
      "2391730\n",
      "                   Total Trips  Share of Trips\n",
      "length_crossclass                             \n",
      "0                       186133        0.077824\n",
      "1                       185799        0.077684\n",
      "10                      102906        0.043026\n",
      "11                       89475        0.037410\n",
      "12                       74466        0.031135\n",
      "13                       66731        0.027901\n",
      "14                       69027        0.028861\n",
      "15                       68079        0.028464\n",
      "16                       48702        0.020363\n",
      "17                       51714        0.021622\n",
      "18                       47739        0.019960\n",
      "19                       48378        0.020227\n",
      "2                       154257        0.064496\n",
      "20                       40454        0.016914\n",
      "21                       32100        0.013421\n",
      "22                       25850        0.010808\n",
      "23                       23083        0.009651\n",
      "24                       29980        0.012535\n",
      "25                      201229        0.084135\n",
      "3                       144506        0.060419\n",
      "4                       138019        0.057707\n",
      "5                       126878        0.053049\n",
      "6                       120020        0.050181\n",
      "7                       120269        0.050285\n",
      "8                       103065        0.043092\n",
      "9                        92871        0.038830\n"
     ]
    }
   ],
   "source": [
    "for purp in ['Home-Based Other', 'Home-Based Shopping', 'NHB OtO', 'NHB WtO', 'HBW']:\n",
    "    trip_length_frequency(trip_hh, purp, '0', 'Share of Trips')"
   ]
  },
  {
   "cell_type": "code",
   "execution_count": 21,
   "metadata": {
    "collapsed": false,
    "scrolled": false
   },
   "outputs": [
    {
     "name": "stdout",
     "output_type": "stream",
     "text": [
      "HBW index:  Share of Trips\n",
      "income group 1\n",
      "360269\n",
      "                   Total Trips  Share of Trips\n",
      "length_crossclass                             \n",
      "0                        45243        0.125581\n",
      "1                        43262        0.120082\n",
      "10                       19714        0.054720\n",
      "11                       23464        0.065129\n",
      "12                       10423        0.028931\n",
      "13                        9036        0.025081\n",
      "14                        4999        0.013876\n",
      "15                        5563        0.015441\n",
      "16                        4738        0.013151\n",
      "17                        4385        0.012171\n",
      "18                        3334        0.009254\n",
      "19                        4748        0.013179\n",
      "2                        18754        0.052056\n",
      "20                        5309        0.014736\n",
      "21                        5585        0.015502\n",
      "22                        4421        0.012271\n",
      "23                         350        0.000971\n",
      "24                        1047        0.002906\n",
      "25                       16335        0.045341\n",
      "3                        17459        0.048461\n",
      "4                        18280        0.050740\n",
      "5                        22232        0.061709\n",
      "6                        27436        0.076154\n",
      "7                        15819        0.043909\n",
      "8                        15319        0.042521\n",
      "9                        13014        0.036123\n",
      "HBW index:  Share of Trips\n",
      "income group 2\n",
      "754003\n",
      "                   Total Trips  Share of Trips\n",
      "length_crossclass                             \n",
      "0                        67012        0.088875\n",
      "1                        70976        0.094132\n",
      "10                       33249        0.044097\n",
      "11                       18029        0.023911\n",
      "12                       24239        0.032147\n",
      "13                       19477        0.025831\n",
      "14                       25951        0.034418\n",
      "15                       16918        0.022438\n",
      "16                       14579        0.019335\n",
      "17                       20485        0.027168\n",
      "18                       17215        0.022831\n",
      "19                       11922        0.015812\n",
      "2                        40381        0.053555\n",
      "20                       13950        0.018501\n",
      "21                       10149        0.013460\n",
      "22                        4750        0.006300\n",
      "23                        5488        0.007278\n",
      "24                        6571        0.008715\n",
      "25                       62325        0.082659\n",
      "3                        48829        0.064760\n",
      "4                        46431        0.061579\n",
      "5                        31253        0.041449\n",
      "6                        32131        0.042614\n",
      "7                        42678        0.056602\n",
      "8                        36861        0.048887\n",
      "9                        32154        0.042644\n",
      "HBW index:  Share of Trips\n",
      "income group 3\n",
      "371179\n",
      "                   Total Trips  Share of Trips\n",
      "length_crossclass                             \n",
      "0                        17386        0.046840\n",
      "1                        25422        0.068490\n",
      "10                       16304        0.043925\n",
      "11                       11665        0.031427\n",
      "12                       11639        0.031357\n",
      "13                        7416        0.019980\n",
      "14                       10405        0.028032\n",
      "15                       12717        0.034261\n",
      "16                        8272        0.022286\n",
      "17                       10753        0.028970\n",
      "18                        9220        0.024840\n",
      "19                       11790        0.031764\n",
      "2                        26092        0.070295\n",
      "20                        7180        0.019344\n",
      "21                        1379        0.003715\n",
      "22                        4120        0.011100\n",
      "23                        5510        0.014845\n",
      "24                        9172        0.024710\n",
      "25                       37745        0.101689\n",
      "3                        22373        0.060276\n",
      "4                        22959        0.061854\n",
      "5                        20825        0.056105\n",
      "6                        17657        0.047570\n",
      "7                        16622        0.044782\n",
      "8                        13479        0.036314\n",
      "9                        13077        0.035231\n",
      "HBW index:  Share of Trips\n",
      "income group 4\n",
      "906238\n",
      "                   Total Trips  Share of Trips\n",
      "length_crossclass                             \n",
      "0                        56490        0.062335\n",
      "1                        46137        0.050910\n",
      "10                       33638        0.037118\n",
      "11                       36315        0.040072\n",
      "12                       28163        0.031077\n",
      "13                       30801        0.033988\n",
      "14                       27671        0.030534\n",
      "15                       32879        0.036281\n",
      "16                       21112        0.023296\n",
      "17                       16090        0.017755\n",
      "18                       17968        0.019827\n",
      "19                       19917        0.021978\n",
      "2                        69028        0.076170\n",
      "20                       14013        0.015463\n",
      "21                       14985        0.016535\n",
      "22                       12558        0.013857\n",
      "23                       11734        0.012948\n",
      "24                       13189        0.014554\n",
      "25                       84823        0.093599\n",
      "3                        55843        0.061621\n",
      "4                        50348        0.055557\n",
      "5                        52566        0.058005\n",
      "6                        42794        0.047222\n",
      "7                        45148        0.049819\n",
      "8                        37405        0.041275\n",
      "9                        34623        0.038205\n"
     ]
    }
   ],
   "source": [
    "for income in ['1', '2', '3', '4']:\n",
    "    trip_length_frequency(trip_hh, 'HBW', income, 'Share of Trips')"
   ]
  },
  {
   "cell_type": "markdown",
   "metadata": {},
   "source": [
    "# Mode Choice "
   ]
  },
  {
   "cell_type": "raw",
   "metadata": {},
   "source": [
    "MODE \n",
    "1 'walk' \n",
    "2 'bike'\n",
    "3 'sov'\n",
    "4 hov2\n",
    "5 hov3+\n",
    "6 transit\n",
    " { drive-transit not a trip mode}\n",
    "8 'school bus'\n",
    "9 other\n"
   ]
  },
  {
   "cell_type": "code",
   "execution_count": 22,
   "metadata": {
    "collapsed": false
   },
   "outputs": [],
   "source": [
    "#Total daily\n",
    "my_trip_mode = pd.DataFrame(trip_hh.groupby(['mode']).sum()['trexpfac'].astype(int))\n",
    "total = my_trip_mode['trexpfac'].sum().astype(int)\n",
    "my_trip_mode['mode_share'] = my_trip_mode['trexpfac'] / total\n",
    "my_trip_mode.columns = [['Total Trips', 'Share of Mode']]"
   ]
  },
  {
   "cell_type": "code",
   "execution_count": 23,
   "metadata": {
    "collapsed": false
   },
   "outputs": [
    {
     "data": {
      "text/plain": [
       "13521309"
      ]
     },
     "execution_count": 23,
     "metadata": {},
     "output_type": "execute_result"
    }
   ],
   "source": [
    "total"
   ]
  },
  {
   "cell_type": "code",
   "execution_count": 24,
   "metadata": {
    "collapsed": false
   },
   "outputs": [
    {
     "data": {
      "text/html": [
       "<div>\n",
       "<table border=\"1\" class=\"dataframe\">\n",
       "  <thead>\n",
       "    <tr style=\"text-align: right;\">\n",
       "      <th></th>\n",
       "      <th>Total Trips</th>\n",
       "      <th>Share of Mode</th>\n",
       "    </tr>\n",
       "    <tr>\n",
       "      <th>mode</th>\n",
       "      <th></th>\n",
       "      <th></th>\n",
       "    </tr>\n",
       "  </thead>\n",
       "  <tbody>\n",
       "    <tr>\n",
       "      <th>1</th>\n",
       "      <td>1492960</td>\n",
       "      <td>0.110415</td>\n",
       "    </tr>\n",
       "    <tr>\n",
       "      <th>2</th>\n",
       "      <td>176345</td>\n",
       "      <td>0.013042</td>\n",
       "    </tr>\n",
       "    <tr>\n",
       "      <th>3</th>\n",
       "      <td>5843461</td>\n",
       "      <td>0.432167</td>\n",
       "    </tr>\n",
       "    <tr>\n",
       "      <th>4</th>\n",
       "      <td>2894030</td>\n",
       "      <td>0.214035</td>\n",
       "    </tr>\n",
       "    <tr>\n",
       "      <th>5</th>\n",
       "      <td>2026432</td>\n",
       "      <td>0.149870</td>\n",
       "    </tr>\n",
       "    <tr>\n",
       "      <th>6</th>\n",
       "      <td>665198</td>\n",
       "      <td>0.049196</td>\n",
       "    </tr>\n",
       "    <tr>\n",
       "      <th>8</th>\n",
       "      <td>350864</td>\n",
       "      <td>0.025949</td>\n",
       "    </tr>\n",
       "    <tr>\n",
       "      <th>9</th>\n",
       "      <td>72019</td>\n",
       "      <td>0.005326</td>\n",
       "    </tr>\n",
       "  </tbody>\n",
       "</table>\n",
       "</div>"
      ],
      "text/plain": [
       "      Total Trips  Share of Mode\n",
       "mode                            \n",
       "1         1492960       0.110415\n",
       "2          176345       0.013042\n",
       "3         5843461       0.432167\n",
       "4         2894030       0.214035\n",
       "5         2026432       0.149870\n",
       "6          665198       0.049196\n",
       "8          350864       0.025949\n",
       "9           72019       0.005326"
      ]
     },
     "execution_count": 24,
     "metadata": {},
     "output_type": "execute_result"
    }
   ],
   "source": [
    "my_trip_mode"
   ]
  },
  {
   "cell_type": "code",
   "execution_count": 26,
   "metadata": {
    "collapsed": false
   },
   "outputs": [],
   "source": [
    "def trip_mode_distribution(purp, income, my_trip):\n",
    "    if income not in['0']: \n",
    "        trip_purp = my_trip[(my_trip['4k_purp'] == purp)&(my_trip['income_crossclass'] == income)].groupby(['mode']).sum()[['trexpfac']].astype(int)\n",
    "        weight = trip_purp['trexpfac'].sum().astype(int)\n",
    "        trip_purp['share'] = trip_purp['trexpfac'] / weight\n",
    "        print \n",
    "       \n",
    "    else: \n",
    "        if purp in ['NHB OtO', 'NHB WtO']: \n",
    "            trip_purp = my_trip[(my_trip['4k_purp'] == 'NHB WtO') | (my_trip['4k_purp'] == 'NHB OtO')].groupby(['mode']).sum()[['trexpfac']].astype(int)\n",
    "            weight = trip_purp['trexpfac'].sum().astype(int)\n",
    "            trip_purp['share'] = trip_purp['trexpfac'] / weight\n",
    "        \n",
    "        else: \n",
    "            trip_purp = my_trip[(my_trip['4k_purp'] == purp)].groupby(['mode']).sum()[['trexpfac']].astype(int)\n",
    "            weight = trip_purp['trexpfac'].sum().astype(int)\n",
    "            trip_purp['share'] = trip_purp['trexpfac'] / weight\n",
    "    print 'total trips are: ', weight\n",
    "    print trip_purp\n",
    "    measure_outcome = pd.DataFrame(trip_purp[['trexpfac', 'share']])\n",
    "    measure_outcome.columns = [['Total Trips', 'Mode Share of Trip']]\n",
    "    \n",
    "    print measure_outcome \n"
   ]
  },
  {
   "cell_type": "code",
   "execution_count": 27,
   "metadata": {
    "collapsed": false
   },
   "outputs": [
    {
     "name": "stdout",
     "output_type": "stream",
     "text": [
      "total trips are:  4638134\n",
      "      trexpfac     share\n",
      "mode                    \n",
      "1       738475  0.159218\n",
      "2        45336  0.009775\n",
      "3      1535230  0.331002\n",
      "4      1244942  0.268414\n",
      "5       948082  0.204410\n",
      "6       102368  0.022071\n",
      "8         6886  0.001485\n",
      "9        16815  0.003625\n",
      "      Total Trips  Mode Share of Trip\n",
      "mode                                 \n",
      "1          738475            0.159218\n",
      "2           45336            0.009775\n",
      "3         1535230            0.331002\n",
      "4         1244942            0.268414\n",
      "5          948082            0.204410\n",
      "6          102368            0.022071\n",
      "8            6886            0.001485\n",
      "9           16815            0.003625\n"
     ]
    }
   ],
   "source": [
    "trip_mode_distribution('Home-Based Other', '0', trip_hh)"
   ]
  },
  {
   "cell_type": "code",
   "execution_count": 29,
   "metadata": {
    "collapsed": false
   },
   "outputs": [
    {
     "name": "stdout",
     "output_type": "stream",
     "text": [
      "total trips are:  3847147\n",
      "      trexpfac     share\n",
      "mode                    \n",
      "1       455531  0.118407\n",
      "2        39621  0.010299\n",
      "3      1765334  0.458868\n",
      "4       864048  0.224594\n",
      "5       481842  0.125247\n",
      "6       187436  0.048721\n",
      "8        35244  0.009161\n",
      "9        18091  0.004702\n",
      "      Total Trips  Mode Share of Trip\n",
      "mode                                 \n",
      "1          455531            0.118407\n",
      "2           39621            0.010299\n",
      "3         1765334            0.458868\n",
      "4          864048            0.224594\n",
      "5          481842            0.125247\n",
      "6          187436            0.048721\n",
      "8           35244            0.009161\n",
      "9           18091            0.004702\n"
     ]
    }
   ],
   "source": [
    "trip_mode_distribution('NHB OtO', '0', trip_hh) #NHB OtO and WtO are combined already"
   ]
  },
  {
   "cell_type": "code",
   "execution_count": 30,
   "metadata": {
    "collapsed": false
   },
   "outputs": [
    {
     "name": "stdout",
     "output_type": "stream",
     "text": [
      "\n",
      "total trips are:  360282\n",
      "      trexpfac     share\n",
      "mode                    \n",
      "1        20070  0.055706\n",
      "2         8674  0.024076\n",
      "3       238874  0.663020\n",
      "4        17149  0.047599\n",
      "5        12353  0.034287\n",
      "6        61400  0.170422\n",
      "9         1762  0.004891\n",
      "      Total Trips  Mode Share of Trip\n",
      "mode                                 \n",
      "1           20070            0.055706\n",
      "2            8674            0.024076\n",
      "3          238874            0.663020\n",
      "4           17149            0.047599\n",
      "5           12353            0.034287\n",
      "6           61400            0.170422\n",
      "9            1762            0.004891\n"
     ]
    }
   ],
   "source": [
    "trip_mode_distribution('HBW', '1', trip_hh)"
   ]
  },
  {
   "cell_type": "code",
   "execution_count": 32,
   "metadata": {
    "collapsed": false
   },
   "outputs": [
    {
     "name": "stdout",
     "output_type": "stream",
     "text": [
      "\n",
      "total trips are:  371187\n",
      "      trexpfac     share\n",
      "mode                    \n",
      "1         8875  0.023910\n",
      "2         7262  0.019564\n",
      "3       297181  0.800623\n",
      "4        18682  0.050330\n",
      "5         7135  0.019222\n",
      "6        30585  0.082398\n",
      "9         1467  0.003952\n",
      "      Total Trips  Mode Share of Trip\n",
      "mode                                 \n",
      "1            8875            0.023910\n",
      "2            7262            0.019564\n",
      "3          297181            0.800623\n",
      "4           18682            0.050330\n",
      "5            7135            0.019222\n",
      "6           30585            0.082398\n",
      "9            1467            0.003952\n"
     ]
    }
   ],
   "source": [
    "trip_mode_distribution('HBW', '2', trip_hh)"
   ]
  },
  {
   "cell_type": "code",
   "execution_count": 33,
   "metadata": {
    "collapsed": false
   },
   "outputs": [
    {
     "name": "stdout",
     "output_type": "stream",
     "text": [
      "\n",
      "total trips are:  371187\n",
      "      trexpfac     share\n",
      "mode                    \n",
      "1         8875  0.023910\n",
      "2         7262  0.019564\n",
      "3       297181  0.800623\n",
      "4        18682  0.050330\n",
      "5         7135  0.019222\n",
      "6        30585  0.082398\n",
      "9         1467  0.003952\n",
      "      Total Trips  Mode Share of Trip\n",
      "mode                                 \n",
      "1            8875            0.023910\n",
      "2            7262            0.019564\n",
      "3          297181            0.800623\n",
      "4           18682            0.050330\n",
      "5            7135            0.019222\n",
      "6           30585            0.082398\n",
      "9            1467            0.003952\n"
     ]
    }
   ],
   "source": [
    "trip_mode_distribution('HBW', '3', trip_hh)"
   ]
  },
  {
   "cell_type": "code",
   "execution_count": 34,
   "metadata": {
    "collapsed": false
   },
   "outputs": [
    {
     "name": "stdout",
     "output_type": "stream",
     "text": [
      "\n",
      "total trips are:  906247\n",
      "      trexpfac     share\n",
      "mode                    \n",
      "1        17923  0.019777\n",
      "2        31982  0.035291\n",
      "3       659330  0.727539\n",
      "4        69593  0.076793\n",
      "5        24167  0.026667\n",
      "6        97107  0.107153\n",
      "9         6145  0.006781\n",
      "      Total Trips  Mode Share of Trip\n",
      "mode                                 \n",
      "1           17923            0.019777\n",
      "2           31982            0.035291\n",
      "3          659330            0.727539\n",
      "4           69593            0.076793\n",
      "5           24167            0.026667\n",
      "6           97107            0.107153\n",
      "9            6145            0.006781\n"
     ]
    }
   ],
   "source": [
    "trip_mode_distribution('HBW', '4', trip_hh)"
   ]
  },
  {
   "cell_type": "raw",
   "metadata": {},
   "source": [
    "MODE \n",
    "1 'walk' \n",
    "2 'bike'\n",
    "3 'sov'\n",
    "4 hov2\n",
    "5 hov3+\n",
    "6 transit\n",
    " { drive-transit not a trip mode}\n",
    "8 'school bus'\n",
    "9 other\n",
    "\n",
    "\n",
    "MODE >>>\tMODE, PATHTYPE\n",
    "1 Auto - driver\tIf HHMEM+NONHH<1  >   3 sov\n",
    "1 Auto - driver\tIf HHMEM+NONHH=1   >   4 hov2\n",
    "1 Auto - driver\tIf HHMEM+NONHH>1   >   5 hov3+\n",
    "2 Auto- passenger\tIf HHMEM+NONHH=1   >   4 hov2\n",
    "2 Auto- passenger\tIf HHMEM+NONHH>1   >   5 hov3+\n",
    "3 Transit-public bus\tIf ACCESS or EGRESS=2  > 7 drive-transit, 1 local bus\n",
    "3 Transit-public bus\tIf ACCESS & EGRESS<>2  > 6 walk-transit, 1 local bus\n",
    "4 Transit-LRT\tIf ACCESS or EGRESS=2  > 7 drive-transit, 2 light rail\n",
    "4 Transit-LRT\tIf ACCESS & EGRESS<>2  > 6 walk-transit, 2 light rail\n",
    "5 Transit-school bus\t8 school bus\n",
    "6 Motorcycle\t9 other\n",
    "7 Taxi\t9 other\n",
    "8 Walk\t1 walk\n",
    "9 Bike\t2 bike\n",
    "97 other\t9 other\n",
    "99 refuse\t9 other\n"
   ]
  },
  {
   "cell_type": "markdown",
   "metadata": {
    "collapsed": true
   },
   "source": [
    "# Time of the Day"
   ]
  },
  {
   "cell_type": "raw",
   "metadata": {},
   "source": [
    "AM 6am-9am : 360-540\n",
    "MD 9am-3pm : 540-900\n",
    "PM 3pm-6pm : 900-1080\n",
    "EV 6pm-10pm : 1080-1320\n",
    "NG 10pm-6am : 1320-1440-0-360"
   ]
  },
  {
   "cell_type": "code",
   "execution_count": 35,
   "metadata": {
    "collapsed": false
   },
   "outputs": [
    {
     "data": {
      "text/plain": [
       "1439"
      ]
     },
     "execution_count": 35,
     "metadata": {},
     "output_type": "execute_result"
    }
   ],
   "source": [
    "trip_hh['deptm'].max()"
   ]
  },
  {
   "cell_type": "code",
   "execution_count": 36,
   "metadata": {
    "collapsed": false
   },
   "outputs": [],
   "source": [
    "trip_hh['time'] = trip_hh['deptm']\n",
    "trip_hh.ix[(trip_hh['deptm'] >= 360)&(trip_hh['deptm'] < 540), 'time'] = 'AM'\n",
    "trip_hh.ix[(trip_hh['deptm'] >= 540)&(trip_hh['deptm'] < 900), 'time'] = 'MD'\n",
    "trip_hh.ix[(trip_hh['deptm'] >= 900)&(trip_hh['deptm'] < 1080), 'time'] = 'PM'\n",
    "trip_hh.ix[(trip_hh['deptm'] >= 1080)&(trip_hh['deptm'] < 1320), 'time'] = 'EV'\n",
    "trip_hh.ix[(trip_hh['deptm'] >= 1320)|(trip_hh['deptm'] < 360), 'time'] = 'NI'"
   ]
  },
  {
   "cell_type": "code",
   "execution_count": 37,
   "metadata": {
    "collapsed": false
   },
   "outputs": [
    {
     "data": {
      "text/plain": [
       "0    NI\n",
       "1    AM\n",
       "2    PM\n",
       "3    PM\n",
       "4    MD\n",
       "Name: time, dtype: object"
      ]
     },
     "execution_count": 37,
     "metadata": {},
     "output_type": "execute_result"
    }
   ],
   "source": [
    "trip_hh['time'].head()"
   ]
  },
  {
   "cell_type": "code",
   "execution_count": 38,
   "metadata": {
    "collapsed": false,
    "scrolled": false
   },
   "outputs": [
    {
     "name": "stdout",
     "output_type": "stream",
     "text": [
      "income: 1\n",
      "      trexpfac\n",
      "time          \n",
      "AM       64888\n",
      "EV       31645\n",
      "MD       65851\n",
      "NI       21850\n",
      "PM       54638\n",
      "income: 2\n",
      "      trexpfac\n",
      "time          \n",
      "AM      188239\n",
      "EV       51209\n",
      "MD      111918\n",
      "NI       62844\n",
      "PM      148437\n",
      "income: 3\n",
      "      trexpfac\n",
      "time          \n",
      "AM      105047\n",
      "EV       30534\n",
      "MD       54362\n",
      "NI       34319\n",
      "PM       72916\n",
      "income: 4\n",
      "      trexpfac\n",
      "time          \n",
      "AM      249706\n",
      "EV       62009\n",
      "MD      105439\n",
      "NI       62263\n",
      "PM      179912\n"
     ]
    }
   ],
   "source": [
    "#SOV (mode==3) HBW #1, #2, #3, #4\n",
    "for income in ['1', '2', '3', '4']:\n",
    "    print 'income:', income\n",
    "    print trip_hh[(trip_hh['4k_purp'] == 'HBW') & (trip_hh['mode'] == 3) & (my_trip['income_crossclass'] == income)].groupby(['time']).sum()[['trexpfac']].astype(int)"
   ]
  },
  {
   "cell_type": "code",
   "execution_count": 24,
   "metadata": {
    "collapsed": false
   },
   "outputs": [
    {
     "data": {
      "text/plain": [
       "array([nan, nan, 'HBW', 'Home-Based Other', 'Home-Based Shopping',\n",
       "       'NHB OtO', 'NHB WtO'], dtype=object)"
      ]
     },
     "execution_count": 24,
     "metadata": {},
     "output_type": "execute_result"
    }
   ],
   "source": [
    "np.unique(trip_hh['4k_purp'])[-7:]"
   ]
  },
  {
   "cell_type": "code",
   "execution_count": 47,
   "metadata": {
    "collapsed": false
   },
   "outputs": [
    {
     "data": {
      "text/html": [
       "<div>\n",
       "<table border=\"1\" class=\"dataframe\">\n",
       "  <thead>\n",
       "    <tr style=\"text-align: right;\">\n",
       "      <th></th>\n",
       "      <th>trexpfac</th>\n",
       "    </tr>\n",
       "    <tr>\n",
       "      <th>time</th>\n",
       "      <th></th>\n",
       "    </tr>\n",
       "  </thead>\n",
       "  <tbody>\n",
       "    <tr>\n",
       "      <th>AM</th>\n",
       "      <td>303839</td>\n",
       "    </tr>\n",
       "    <tr>\n",
       "      <th>EV</th>\n",
       "      <td>629672</td>\n",
       "    </tr>\n",
       "    <tr>\n",
       "      <th>MD</th>\n",
       "      <td>1245262</td>\n",
       "    </tr>\n",
       "    <tr>\n",
       "      <th>NI</th>\n",
       "      <td>104741</td>\n",
       "    </tr>\n",
       "    <tr>\n",
       "      <th>PM</th>\n",
       "      <td>718420</td>\n",
       "    </tr>\n",
       "  </tbody>\n",
       "</table>\n",
       "</div>"
      ],
      "text/plain": [
       "      trexpfac\n",
       "time          \n",
       "AM      303839\n",
       "EV      629672\n",
       "MD     1245262\n",
       "NI      104741\n",
       "PM      718420"
      ]
     },
     "execution_count": 47,
     "metadata": {},
     "output_type": "execute_result"
    }
   ],
   "source": [
    "trip_hh[((trip_hh['4k_purp'] == 'Home-Based Other') | (trip_hh['4k_purp'] == 'Home-Based Shopping')  | (trip_hh['4k_purp'] == 'NHB OtO') ) & (trip_hh['mode'] == 3)].groupby(['time']).sum()[['trexpfac']].astype(int)"
   ]
  },
  {
   "cell_type": "code",
   "execution_count": 48,
   "metadata": {
    "collapsed": false
   },
   "outputs": [
    {
     "data": {
      "text/html": [
       "<div>\n",
       "<table border=\"1\" class=\"dataframe\">\n",
       "  <thead>\n",
       "    <tr style=\"text-align: right;\">\n",
       "      <th></th>\n",
       "      <th>trexpfac</th>\n",
       "    </tr>\n",
       "    <tr>\n",
       "      <th>time</th>\n",
       "      <th></th>\n",
       "    </tr>\n",
       "  </thead>\n",
       "  <tbody>\n",
       "    <tr>\n",
       "      <th>AM</th>\n",
       "      <td>472883</td>\n",
       "    </tr>\n",
       "    <tr>\n",
       "      <th>EV</th>\n",
       "      <td>595562</td>\n",
       "    </tr>\n",
       "    <tr>\n",
       "      <th>MD</th>\n",
       "      <td>1013732</td>\n",
       "    </tr>\n",
       "    <tr>\n",
       "      <th>NI</th>\n",
       "      <td>68400</td>\n",
       "    </tr>\n",
       "    <tr>\n",
       "      <th>PM</th>\n",
       "      <td>743452</td>\n",
       "    </tr>\n",
       "  </tbody>\n",
       "</table>\n",
       "</div>"
      ],
      "text/plain": [
       "      trexpfac\n",
       "time          \n",
       "AM      472883\n",
       "EV      595562\n",
       "MD     1013732\n",
       "NI       68400\n",
       "PM      743452"
      ]
     },
     "execution_count": 48,
     "metadata": {},
     "output_type": "execute_result"
    }
   ],
   "source": [
    "trip_hh[(trip_hh['mode'] == 4)].groupby(['time']).sum()[['trexpfac']].astype(int)"
   ]
  },
  {
   "cell_type": "code",
   "execution_count": 49,
   "metadata": {
    "collapsed": false
   },
   "outputs": [
    {
     "data": {
      "text/html": [
       "<div>\n",
       "<table border=\"1\" class=\"dataframe\">\n",
       "  <thead>\n",
       "    <tr style=\"text-align: right;\">\n",
       "      <th></th>\n",
       "      <th>trexpfac</th>\n",
       "    </tr>\n",
       "    <tr>\n",
       "      <th>time</th>\n",
       "      <th></th>\n",
       "    </tr>\n",
       "  </thead>\n",
       "  <tbody>\n",
       "    <tr>\n",
       "      <th>AM</th>\n",
       "      <td>377389</td>\n",
       "    </tr>\n",
       "    <tr>\n",
       "      <th>EV</th>\n",
       "      <td>411380</td>\n",
       "    </tr>\n",
       "    <tr>\n",
       "      <th>MD</th>\n",
       "      <td>567448</td>\n",
       "    </tr>\n",
       "    <tr>\n",
       "      <th>NI</th>\n",
       "      <td>31857</td>\n",
       "    </tr>\n",
       "    <tr>\n",
       "      <th>PM</th>\n",
       "      <td>638356</td>\n",
       "    </tr>\n",
       "  </tbody>\n",
       "</table>\n",
       "</div>"
      ],
      "text/plain": [
       "      trexpfac\n",
       "time          \n",
       "AM      377389\n",
       "EV      411380\n",
       "MD      567448\n",
       "NI       31857\n",
       "PM      638356"
      ]
     },
     "execution_count": 49,
     "metadata": {},
     "output_type": "execute_result"
    }
   ],
   "source": [
    "trip_hh[(trip_hh['mode'] == 5)].groupby(['time']).sum()[['trexpfac']].astype(int)"
   ]
  },
  {
   "cell_type": "code",
   "execution_count": 30,
   "metadata": {
    "collapsed": false
   },
   "outputs": [
    {
     "name": "stdout",
     "output_type": "stream",
     "text": [
      "Empty DataFrame\n",
      "Columns: []\n",
      "Index: []\n",
      "purpose: NHB OtO\n",
      "      trexpfac\n",
      "time          \n",
      "AM      238429\n",
      "EV      488948\n",
      "MD     1577199\n",
      "NI       29322\n",
      "PM      868144\n",
      "purpose: NHB WtO\n",
      "      trexpfac\n",
      "time          \n",
      "AM      246582\n",
      "EV      116068\n",
      "MD      844504\n",
      "NI       32474\n",
      "PM      553157\n"
     ]
    }
   ],
   "source": [
    "NHB_df = pd.DataFrame()\n",
    "print NHB_df\n",
    "for purp in ['NHB OtO', 'NHB WtO']:\n",
    "    print 'purpose:', purp\n",
    "    NHB_df = pd.DataFrame(trip_hh[(trip_hh['4k_purp'] == purp) ].groupby(['time']).sum()[['trexpfac']].astype(int))\n",
    "    print NHB_df"
   ]
  },
  {
   "cell_type": "code",
   "execution_count": null,
   "metadata": {
    "collapsed": true
   },
   "outputs": [],
   "source": []
  },
  {
   "cell_type": "code",
   "execution_count": null,
   "metadata": {
    "collapsed": true
   },
   "outputs": [],
   "source": []
  },
  {
   "cell_type": "code",
   "execution_count": null,
   "metadata": {
    "collapsed": true
   },
   "outputs": [],
   "source": []
  },
  {
   "cell_type": "code",
   "execution_count": null,
   "metadata": {
    "collapsed": true
   },
   "outputs": [],
   "source": []
  },
  {
   "cell_type": "code",
   "execution_count": null,
   "metadata": {
    "collapsed": true
   },
   "outputs": [],
   "source": []
  }
 ],
 "metadata": {
  "kernelspec": {
   "display_name": "Python 2",
   "language": "python",
   "name": "python2"
  },
  "language_info": {
   "codemirror_mode": {
    "name": "ipython",
    "version": 2
   },
   "file_extension": ".py",
   "mimetype": "text/x-python",
   "name": "python",
   "nbconvert_exporter": "python",
   "pygments_lexer": "ipython2",
   "version": "2.7.11"
  }
 },
 "nbformat": 4,
 "nbformat_minor": 2
}
